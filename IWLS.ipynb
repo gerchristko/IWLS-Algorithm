{
 "cells": [
  {
   "cell_type": "code",
   "execution_count": 1,
   "id": "695f71e5",
   "metadata": {},
   "outputs": [],
   "source": [
    "import pandas as pd\n",
    "import numpy as np"
   ]
  },
  {
   "cell_type": "code",
   "execution_count": 2,
   "id": "972cd7c4",
   "metadata": {},
   "outputs": [],
   "source": [
    "df = pd.read_csv(\"data.csv\")"
   ]
  },
  {
   "cell_type": "code",
   "execution_count": 3,
   "id": "7033a459",
   "metadata": {},
   "outputs": [],
   "source": [
    "X = df.drop(\"Success\", axis = 1)\n",
    "X.insert(0, \"Intercept\", 1)\n",
    "X = X.to_numpy()\n",
    "y = df[\"Success\"].to_numpy()"
   ]
  },
  {
   "cell_type": "code",
   "execution_count": 4,
   "id": "af6db44c",
   "metadata": {},
   "outputs": [
    {
     "data": {
      "text/plain": [
       "array([[ 1.        ,  1.48938133,  1.15341522],\n",
       "       [ 1.        ,  1.81100853,  0.94496669],\n",
       "       [ 1.        , -0.044533  ,  0.34278203],\n",
       "       [ 1.        , -0.36616019,  1.13025428],\n",
       "       [ 1.        ,  0.15339143, -0.79210443],\n",
       "       [ 1.        , -1.60318788, -1.8343471 ],\n",
       "       [ 1.        , -0.14349521, -0.67629969],\n",
       "       [ 1.        , -0.44038186, -0.79210443],\n",
       "       [ 1.        , -0.7372685 , -0.02779314],\n",
       "       [ 1.        , -0.11875466,  0.55123057]])"
      ]
     },
     "execution_count": 4,
     "metadata": {},
     "output_type": "execute_result"
    }
   ],
   "source": [
    "X"
   ]
  },
  {
   "cell_type": "markdown",
   "id": "25f45f24",
   "metadata": {},
   "source": [
    "## <font color = \"brown\"> Functions </font>"
   ]
  },
  {
   "cell_type": "code",
   "execution_count": 5,
   "id": "3b7d5e33",
   "metadata": {},
   "outputs": [],
   "source": [
    "def g(x):\n",
    "    \n",
    "    # Link function\n",
    "    return np.log(x / (1 - x))\n",
    "\n",
    "def ig(x):\n",
    "    \n",
    "    # Inverse link function\n",
    "    return 1 / (1 + np.exp(-x))\n",
    "\n",
    "def dg(x):\n",
    "    \n",
    "    # Derivative of link function\n",
    "    return 1 / (x * (1 - x))"
   ]
  },
  {
   "cell_type": "code",
   "execution_count": 6,
   "id": "af646ca2",
   "metadata": {},
   "outputs": [],
   "source": [
    "def V(x):\n",
    "    \n",
    "    # Variance function of logistic regression\n",
    "    return x * (1 - x)"
   ]
  },
  {
   "cell_type": "code",
   "execution_count": 7,
   "id": "df7a96a8",
   "metadata": {},
   "outputs": [],
   "source": [
    "def WLS(X, W, z):\n",
    "    \n",
    "    # Normal equations of weighted least squares\n",
    "    XtWX = X.T @ W @ X\n",
    "    XtWz = X.T @ W @ z\n",
    "    b = np.linalg.inv(XtWX) @ XtWz\n",
    "    \n",
    "    return b"
   ]
  },
  {
   "cell_type": "code",
   "execution_count": 8,
   "id": "c56940af",
   "metadata": {},
   "outputs": [],
   "source": [
    "def Likelihood(p, y):\n",
    "    \n",
    "    # Likelihood of logistic regression\n",
    "    L = y * np.log(p) + (1 - y) * np.log(1 - p)\n",
    "    return L"
   ]
  },
  {
   "cell_type": "markdown",
   "id": "6b3e4e4b",
   "metadata": {},
   "source": [
    "## <font color = \"brown\"> IWLS Algorithm </font>"
   ]
  },
  {
   "cell_type": "code",
   "execution_count": 9,
   "id": "4d1b71de",
   "metadata": {},
   "outputs": [],
   "source": [
    "def IWLS(X, y):\n",
    "    \n",
    "    # Step 1\n",
    "    # Initialise probability values of 0.5\n",
    "    mu = np.ones(len(y)) / 2\n",
    "    \n",
    "    delta = 1\n",
    "    i = 0\n",
    "    LL = 0\n",
    "    \n",
    "    while delta > 1e-6:\n",
    "        \n",
    "        # Step 2\n",
    "        # Given current μ, calculate z and W\n",
    "        z = g(mu) + (y - mu) * dg(mu)\n",
    "        W = np.diag(1 / (dg(mu)**2 * V(mu))) # Inverse of Sigma\n",
    "        \n",
    "        # Step 3\n",
    "        # Given current z and W, calculate β\n",
    "        b = WLS(X, W, z)\n",
    "        \n",
    "        # Step 4\n",
    "        # Given current β, calculate μ\n",
    "        mu = ig(X @ b)\n",
    "        \n",
    "        # Step 5\n",
    "        # Calculate and compare log-likelihoods\n",
    "        LLOld = LL\n",
    "        LL = Likelihood(mu, y)\n",
    "        delta = abs(LL - LLOld)\n",
    "        \n",
    "        i += 1\n",
    "        \n",
    "    print(f\"IWLS completed on {i} iterations\")\n",
    "    return b"
   ]
  },
  {
   "cell_type": "code",
   "execution_count": 10,
   "id": "90f06a7b",
   "metadata": {},
   "outputs": [
    {
     "name": "stdout",
     "output_type": "stream",
     "text": [
      "IWLS completed on 8 iterations\n"
     ]
    }
   ],
   "source": [
    "b = IWLS(X, y)"
   ]
  },
  {
   "cell_type": "code",
   "execution_count": 11,
   "id": "97253d86",
   "metadata": {},
   "outputs": [
    {
     "data": {
      "text/plain": [
       "array([1.10999575, 9.12479957, 2.18745957])"
      ]
     },
     "execution_count": 11,
     "metadata": {},
     "output_type": "execute_result"
    }
   ],
   "source": [
    "b"
   ]
  },
  {
   "cell_type": "code",
   "execution_count": 12,
   "id": "3ccc43ce",
   "metadata": {},
   "outputs": [
    {
     "data": {
      "text/plain": [
       "array([1, 1, 1, 1, 1, 0, 0, 0, 0, 1])"
      ]
     },
     "execution_count": 12,
     "metadata": {},
     "output_type": "execute_result"
    }
   ],
   "source": [
    "phat = ig(X @ b)\n",
    "yhat = np.where(phat >= 0.5, 1, 0)\n",
    "yhat"
   ]
  },
  {
   "cell_type": "markdown",
   "id": "68f5e40a",
   "metadata": {},
   "source": [
    "## <font color = \"brown\"> Comparison </font>"
   ]
  },
  {
   "cell_type": "markdown",
   "id": "bcf59cf7",
   "metadata": {},
   "source": [
    "$$\n",
    "\\begin{aligned}\n",
    "\\\\\n",
    "\\\\\n",
    "\\hat\\beta &= (X^TX)^{-1}(X^Ty)\n",
    "\\\\\n",
    "\\\\\n",
    "\\\\\n",
    "\\epsilon &\\sim N(0, \\sigma^2I)\n",
    "\\\\\n",
    "\\\\\n",
    "\\\\\n",
    "\\epsilon &\\sim N(0, \\Sigma)\n",
    "\\\\\n",
    "\\\\\n",
    "\\\\\n",
    "\\hat\\beta &= (X^T\\Sigma^{-1}X)^{-1}(X^T\\Sigma^{-1}y)\n",
    "\\\\\n",
    "\\\\\n",
    "\\\\\n",
    "g(\\hat\\mu) &= X\\beta\n",
    "\\\\\n",
    "\\\\\n",
    "\\\\\n",
    "\\hat\\mu &= g^{-1}(X\\beta)\n",
    "\\\\\n",
    "\\\\\n",
    "\\\\\n",
    "g(\\mu) &= \\log\\left(\\frac{\\mu}{1-\\mu}\\right) \\\\\n",
    "g'(p) &= \\frac{1}{p(1-p)} \\\\\n",
    "g^{-1}(\\eta) &= \\frac{1}{1 + \\exp(-\\eta)} \\\\\n",
    "\\\\\n",
    "\\\\\n",
    "\\\\\n",
    "f(y) &= \\exp\\left[\\frac{\\theta y - b(\\theta)}{a(\\phi)} + c(y, \\phi)\\right]\n",
    "\\\\\n",
    "\\\\\n",
    "\\\\\n",
    "\\text{Var}(Y) &= v(\\mu)a(\\phi)\n",
    "\\\\\n",
    "\\\\\n",
    "\\\\\n",
    "v(\\mu) &= b'' o (b')^{-1}(\\mu)\n",
    "\\\\\n",
    "\\\\\n",
    "\\\\\n",
    "v(\\mu) &= \\mu(1 - \\frac{\\mu}{n})\n",
    "\\\\\n",
    "\\\\\n",
    "\\\\\n",
    "Z_i &= g(\\mu_i) + \\epsilon_i \\\\\n",
    "\\epsilon_i & = (Y_i - \\mu_i)g'(\\mu_i)\n",
    "\\\\\n",
    "\\\\\n",
    "\\\\\n",
    "\\Sigma_{ii} &= (g'(\\mu))^{2}\\text{Var}(Y_i) \\\\\n",
    "&= (g'(\\mu))^{2}v(\\mu_i)a(\\phi)\n",
    "\\\\\n",
    "\\\\\n",
    "\\\\\n",
    "\\hat\\beta &= (X^T\\Sigma^{-1}X)^{-1}(X^T\\Sigma^{-1}z) \n",
    "\\\\\n",
    "\\\\\n",
    "\\\\\n",
    "\\hat\\mu_i &= g^{-1}(x_i^T\\hat\\beta)\n",
    "\\\\\n",
    "\\\\\n",
    "\\\\\n",
    "\\log\\mathcal{L}(\\beta) &= \\sum y_i\\log(p_i) + (1 - y_i)\\log(1-p_i)\n",
    "\\\\\n",
    "\\\\\n",
    "\\\\\n",
    "\\end{aligned}\n",
    "$$\n"
   ]
  },
  {
   "cell_type": "markdown",
   "id": "c02e5685",
   "metadata": {},
   "source": [
    "$$\n",
    "\\begin{aligned}\n",
    "\\\\\n",
    "\\\\\n",
    "\\\\\n",
    "f(y) &= \\left(\\begin{matrix}n \\\\ y\\end{matrix}\\right)p^y(1-p)^{n-y} \\\\\n",
    "\\log f(y) &= \\log\\left(\\begin{matrix}n \\\\ y\\end{matrix}\\right) + y\\log p + (n-y)\\log(1-p) \\\\\n",
    "f(y) &= \\exp\\left(\\log\\left(\\begin{matrix}n \\\\ y\\end{matrix}\\right) + y\\log p + n\\log(1-p) - y\\log(1-p) \\right) \\\\\n",
    "f(y) &= \\exp\\left(\\log\\left(\\begin{matrix}n \\\\ y\\end{matrix}\\right) + y\\log \\frac{p}{1-p} + n\\log(1-p) \\right) \\\\\n",
    "\\\\\n",
    "\\text{Let, }\\space\\space\\space \\theta &= \\log\\frac{p}{1-p},\\space\\space p = \\frac{e^\\theta}{1+e^\\theta}, \\space\\space\n",
    "1 - p = \\frac{1}{1+e^\\theta}\n",
    "\\\\\n",
    "\\\\\n",
    "f(y) &= \\exp\\left(\\theta y - n\\log(1+e^\\theta) + \\log\\left(\\begin{matrix}n \\\\ y\\end{matrix}\\right)\\right) \n",
    "\\\\\n",
    "\\\\\n",
    "\\text{Let, }\\space\\space\\space b(\\theta) &= n\\log(1+e^\\theta),\\space\\space a(\\phi) = 1, \\space\\space\n",
    "c(y, \\phi) = \\log\\left(\\begin{matrix}n \\\\ y\\end{matrix}\\right) \n",
    "\\\\\n",
    "\\\\\n",
    "f(y) &= \\exp\\left(\\frac{\\theta y - b(\\theta)}{a(\\phi)} + c(y, \\phi)\\right)\n",
    "\\\\\n",
    "\\\\\n",
    "\\\\\n",
    "\\end{aligned}\n",
    "$$"
   ]
  }
 ],
 "metadata": {
  "kernelspec": {
   "display_name": "Python 3 (ipykernel)",
   "language": "python",
   "name": "python3"
  },
  "language_info": {
   "codemirror_mode": {
    "name": "ipython",
    "version": 3
   },
   "file_extension": ".py",
   "mimetype": "text/x-python",
   "name": "python",
   "nbconvert_exporter": "python",
   "pygments_lexer": "ipython3",
   "version": "3.7.7"
  }
 },
 "nbformat": 4,
 "nbformat_minor": 5
}
